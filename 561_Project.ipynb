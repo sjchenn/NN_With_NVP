{
 "cells": [
  {
   "cell_type": "markdown",
   "metadata": {
    "id": "js3foVTVKGPx"
   },
   "source": [
    "561 Project code implementation"
   ]
  },
  {
   "cell_type": "code",
   "execution_count": 1,
   "metadata": {
    "id": "3lEjedRvw1hf",
    "tags": []
   },
   "outputs": [],
   "source": [
    "import numpy as np \n",
    "import random\n",
    "import matplotlib.pyplot as plt \n",
    "import math \n",
    "from mpl_toolkits.mplot3d import Axes3D\n",
    "import torch\n",
    "import torch.optim as optim\n",
    "import torch.nn as nn\n",
    "import torch.nn.init as init\n",
    "import torch.nn.functional as F\n",
    "import torchvision\n",
    "import os\n",
    "import seaborn as sns\n",
    "import copy\n",
    "\n",
    "from torch.distributions.multivariate_normal import MultivariateNormal"
   ]
  },
  {
   "cell_type": "code",
   "execution_count": 2,
   "metadata": {
    "id": "bSLBTZOww1hh"
   },
   "outputs": [],
   "source": [
    "device = torch.device('cuda' if torch.cuda.is_available() else 'cpu')"
   ]
  },
  {
   "cell_type": "markdown",
   "metadata": {
    "id": "OAGhxNSuw1hh",
    "tags": []
   },
   "source": [
    "#### BatchNorm Implementation"
   ]
  },
  {
   "cell_type": "code",
   "execution_count": 3,
   "metadata": {
    "id": "MWkSsprDw1hh"
   },
   "outputs": [],
   "source": [
    "class BatchNorm(nn.Module):\n",
    "    def __init__ (self, dim, momentum=0.9, eps=1e-5):\n",
    "        super().__init__()\n",
    "        self.eps = eps\n",
    "        self.gamma = nn.Parameter(torch.zeros(1, dim))\n",
    "        self.beta = nn.Parameter(torch.zeros(1, dim))\n",
    "        self.momentum = momentum\n",
    "\n",
    "        self.register_buffer('running_mean',torch.zeros(dim))\n",
    "        self.register_buffer('running_var',torch.ones(dim))\n",
    "\n",
    "        \n",
    "    def forward(self,x):\n",
    "        if self.training:\n",
    "            self.mean = x.mean(dim=0)\n",
    "            self.running_mean.mul_(self.momentum).add_(self.mean.data*(1-self.momentum))\n",
    "            self.var = x.var(dim=0,unbiased=False)\n",
    "            self.running_var.mul_(self.momentum).add_(self.var.data*(1-self.momentum))\n",
    "\n",
    "            mean = self.mean\n",
    "            var = self.var\n",
    "        else:\n",
    "            mean = self.running_mean\n",
    "            var = self.running_var\n",
    "        \n",
    "        # According to section 3.7 NVP & MAF EQN22\n",
    "        x_hat = (x-mean)/torch.sqrt(var+self.eps)\n",
    "        u = x_hat * torch.exp(self.gamma) + self.beta\n",
    "        \n",
    "        # According to MAF EQN23\n",
    "        log_det = self.gamma - 0.5 * torch.log(var+self.eps)\n",
    "        \n",
    "        return u, log_det\n",
    "    \n",
    "    \n",
    "    def reverse(self,u):\n",
    "        if self.training:\n",
    "            mean = x.mean(dim=0)\n",
    "            var = x.var(dim=0,unbiased=False)\n",
    "        else:\n",
    "            mean = self.running_mean\n",
    "            var = self.running_var\n",
    "\n",
    "        x_hat = (u-self.beta)*torch.exp(-self.gamma)\n",
    "        x = x_hat * torch.sqrt(var+self.eps)+mean\n",
    "\n",
    "        log_det = 0.5 * torch.log(var + self.eps) - self.gamma\n",
    "        \n",
    "        return x, log_det"
   ]
  },
  {
   "cell_type": "code",
   "execution_count": 5,
   "metadata": {
    "id": "O3xzsSHYw1hj"
   },
   "outputs": [],
   "source": [
    "class Affine_Coupling(nn.Module):\n",
    "    def __init__(self, input_size, hidden_size, n_hidden, mask, cond_label_size=None):\n",
    "        super().__init__()\n",
    "        # initiate the mask\n",
    "        self.register_buffer('mask', mask)\n",
    "        s_net = [nn.Linear(input_size, hidden_size)]\n",
    "        for _ in range(n_hidden):\n",
    "            s_net += [nn.ReLU(), nn.Linear(hidden_size, hidden_size)]\n",
    "        s_net += [nn.ReLU(), nn.Linear(hidden_size, input_size)]\n",
    "        # NN to train the S parameter\n",
    "        self.s_net = nn.Sequential(*s_net)\n",
    "        # NN to train the T parameter\n",
    "        self.t_net = copy.deepcopy(self.s_net)\n",
    "        \n",
    "    def forward(self, x):\n",
    "        # input x according to masks\n",
    "        mx = x * self.mask\n",
    "        s = self.s_net(mx)\n",
    "        t = self.t_net(mx)\n",
    "        u = mx + (1 - self.mask) * (x - t) * torch.exp(-s)\n",
    "        log_abs_det_jacobian = - (1 - self.mask) * s\n",
    "        return u, log_abs_det_jacobian\n",
    "\n",
    "    def reverse(self, u):\n",
    "        # reverse operation\n",
    "        mu = u * self.mask\n",
    "        s = self.s_net(mu)\n",
    "        t = self.t_net(mu)\n",
    "        x = mu + (1 - self.mask) * (u * s.exp() + t)\n",
    "\n",
    "        log_abs_det_jacobian = (1 - self.mask) * s\n",
    "\n",
    "        return x, log_abs_det_jacobian\n",
    "\n",
    "class RealNVP(nn.Module):\n",
    "    def __init__(self, n_blocks, input_size, hidden_size, n_hidden):\n",
    "        super().__init__()\n",
    "        \n",
    "        # initiate mean and variance as 0 and 1 for the distribution we want to transform to \n",
    "        self.register_buffer('base_dist_mean', torch.zeros(input_size))\n",
    "        self.register_buffer('base_dist_var', torch.ones(input_size))\n",
    "        \n",
    "        # initiate Affine Coupling Layer and BatchNorm\n",
    "        modules = []\n",
    "        for _ in range(n_blocks):\n",
    "            mask = torch.ones(input_size).int()\n",
    "            m_length = 0\n",
    "            i = 0\n",
    "            mask_set = []\n",
    "            while True:\n",
    "                i += 1\n",
    "                m_length += math.ceil(input_size * (1 / 2)**i)\n",
    "                tmp = copy.deepcopy(mask)\n",
    "                tmp[:m_length] = 0\n",
    "                mask_set.append(tmp.int())\n",
    "                modules += [\n",
    "                    Affine_Coupling(input_size, hidden_size, n_hidden, tmp.int()),\n",
    "                    BatchNorm(input_size),\n",
    "                ]\n",
    "                if torch.sum(tmp.int()) == 1:\n",
    "                    break\n",
    "            # print(mask_set)\n",
    "            for m in reversed(mask_set):\n",
    "                mask_sym = torch.flip(m, [0])\n",
    "                modules += [\n",
    "                    Affine_Coupling(input_size, hidden_size, n_hidden, mask_sym.int()),\n",
    "                    BatchNorm(input_size),\n",
    "                ]\n",
    "\n",
    "        self.net = nn.Sequential(*modules)\n",
    "\n",
    "\n",
    "    @property\n",
    "    def base_dist(self):\n",
    "        # Base distribution\n",
    "        return torch.distributions.Normal(self.base_dist_mean, self.base_dist_var)\n",
    "\n",
    "    def forward(self, x):\n",
    "        # Forward Pass, reshape x because x could be a 3d tensor\n",
    "        x = x.view(x.shape[0], -1)\n",
    "        log_det_sum = 0\n",
    "        for module in self.net:\n",
    "            x, log_det = module(x)\n",
    "            log_det_sum = log_det_sum + log_det\n",
    "        return x, log_det_sum\n",
    "\n",
    "    def reverse(self, u):\n",
    "        # reverse transform \n",
    "        log_det_sum = 0\n",
    "        for module in reversed(self.net):\n",
    "            u, log_det = module.reverse(u)\n",
    "            log_det_sum = log_det_sum + log_det\n",
    "        return u, log_det_sum    "
   ]
  },
  {
   "cell_type": "code",
   "execution_count": 6,
   "metadata": {
    "id": "vqFffrIpw1hm"
   },
   "outputs": [],
   "source": [
    "from sklearn.datasets import make_circles, make_moons"
   ]
  },
  {
   "cell_type": "code",
   "execution_count": 7,
   "metadata": {
    "colab": {
     "base_uri": "https://localhost:8080/"
    },
    "id": "KXJK0E7Ow1hn",
    "outputId": "9ffea778-711e-47e1-d438-f640c721ebc8",
    "scrolled": true,
    "tags": []
   },
   "outputs": [
    {
     "name": "stdout",
     "output_type": "stream",
     "text": [
      "Trained Epoch 100: loss = -0.2814788222312927\n",
      "Trained Epoch 200: loss = -0.5734021067619324\n",
      "Trained Epoch 300: loss = -0.50155109167099\n",
      "Trained Epoch 400: loss = -0.5443322658538818\n",
      "Trained Epoch 500: loss = -0.5539378523826599\n",
      "Trained Epoch 600: loss = -0.5783737897872925\n",
      "Trained Epoch 700: loss = -0.5578786134719849\n",
      "Trained Epoch 800: loss = -0.5919544696807861\n",
      "Trained Epoch 900: loss = -0.5622031688690186\n",
      "Trained Epoch 1000: loss = -0.5375468730926514\n"
     ]
    }
   ],
   "source": [
    "hidden_dim = 128\n",
    "realNVP = RealNVP(5,2,hidden_dim,3).to(device)\n",
    "optimizer = optim.Adam(realNVP.parameters(), lr = 0.001)\n",
    "\n",
    "\n",
    "Epochs = 1000\n",
    "realNVP.train()\n",
    "for epoch in range(Epochs):\n",
    "    x, label = make_moons(n_samples = 1000, noise = 0.02)\n",
    "    x = torch.Tensor(x).to(device)\n",
    "    z, log_det = realNVP(x)\n",
    "    loss = -torch.sum(realNVP.base_dist.log_prob(z) + log_det, dim=1).mean(0)\n",
    "\n",
    "    optimizer.zero_grad()\n",
    "    loss.backward()\n",
    "    optimizer.step()\n",
    "\n",
    "    if (epoch+1)%100 == 0:\n",
    "        print(f\"Trained Epoch {epoch+1}: loss = {loss.item()}\")"
   ]
  },
  {
   "cell_type": "code",
   "execution_count": 9,
   "metadata": {
    "colab": {
     "base_uri": "https://localhost:8080/"
    },
    "id": "HIRvcWrrw1ho",
    "outputId": "cb9225a0-b696-4cff-b6ad-a61c4d52fc19",
    "scrolled": true
   },
   "outputs": [
    {
     "name": "stdout",
     "output_type": "stream",
     "text": [
      "Trained Epoch 100: loss = 0.8373213410377502\n",
      "Trained Epoch 200: loss = 0.7867103219032288\n",
      "Trained Epoch 300: loss = 0.5938005447387695\n",
      "Trained Epoch 400: loss = 0.5102494955062866\n",
      "Trained Epoch 500: loss = 0.4842654764652252\n",
      "Trained Epoch 600: loss = 0.5001676082611084\n",
      "Trained Epoch 700: loss = 0.46076807379722595\n",
      "Trained Epoch 800: loss = 0.40771400928497314\n",
      "Trained Epoch 900: loss = 0.5853369235992432\n",
      "Trained Epoch 1000: loss = 0.6771484613418579\n"
     ]
    }
   ],
   "source": [
    "hidden_dim = 128\n",
    "realNVP = RealNVP(5,2,hidden_dim,3).to(device)\n",
    "optimizer = optim.Adam(realNVP.parameters(), lr = 0.001)\n",
    "\n",
    "Epochs = 1000\n",
    "realNVP.train()\n",
    "for epoch in range(Epochs):\n",
    "    x, label = make_circles(n_samples = 1000, noise = 0.02)\n",
    "    x = torch.Tensor(x).to(device)\n",
    "    z, log_det = realNVP(x)\n",
    "    loss = -torch.sum(realNVP.base_dist.log_prob(z) + log_det, dim=1).mean(0)\n",
    "\n",
    "    optimizer.zero_grad()\n",
    "    loss.backward()\n",
    "    optimizer.step()\n",
    "\n",
    "    if (epoch+1)%100 == 0:\n",
    "        print(f\"Trained Epoch {epoch+1}: loss = {loss.item()}\")"
   ]
  },
  {
   "cell_type": "code",
   "execution_count": 10,
   "metadata": {
    "colab": {
     "base_uri": "https://localhost:8080/",
     "height": 443,
     "referenced_widgets": [
      "df67d1068a3740a48ce66b724e9fb20b",
      "5c6e1a03ea3f41f98c46b04d316ccddb",
      "3207c01ca60d4d829d9db83682b0a077",
      "796947331e0f43f9bb73cfae11e277f8",
      "7611eb26f2864c71956571db9f281418",
      "ba86215be03c4abda7d3da60a7245bc4",
      "d86aaf8c69be42bc8f01de0a76ae6bcb",
      "00ce0775086d4076a17e1e62e1103fb7",
      "723a81fdc78c41abbd4b9a4cb34fe666",
      "9fe0752d8e3e48e991d7702f797dd4e2",
      "2f8de3cdb7c842f3a506ef9fa203758b",
      "d47cc8ebeefc407c82c7cf1756fdcdfd",
      "d2dde05adfe54ca8a8e1c62ea4d402f5",
      "3615d5a3aca94cf881e0d20dc52c3754",
      "9d228954c3b644b08b4dd114b2aecb5a",
      "1dc127d6eb854e4f98ad9805ab340aee",
      "1b189c42b33446c4a85a7835ea6d5e6b",
      "bb5d3a260d18499ea5495aec6c07fc6f",
      "2d483faed5cf42d787dc4a89fe804c22",
      "f84daf051b62458996498a7c7ab24feb",
      "2687f067f1964351b361aa05e2836f2b",
      "d665434630da4922b73a4ea56f7c4419",
      "615c3aa2348e457f90fcc3d9c07ad0aa",
      "e4d1f49a37834f5bb2c71a0670d674ea",
      "5c84a9ff0cee49039e4c4afcf4bab6ed",
      "3b664ea1a2dc4e56b61f10d4618139ed",
      "8f581bafbf904e51bd10ba59f132c9bf",
      "02342b2815994549883aa1b8b7057674",
      "9eecae5d67ef4932b05c0bcc6c737d67",
      "ed5f0f3a8cb14ec6b2840338c383c86b",
      "df1120d5f248447eb3260b3e8a24fcf7",
      "d5db906c8ce94beb9b124c09385cb93b",
      "de3ff1ab859d44ed9da0d602b5a6ca72",
      "755f3fe2063e4f3ca4c7193d3ecd4d0a",
      "af52380ee8824c1086346b736a5109f4",
      "ce407856b1ac4ab0a52eecef6ad992f0",
      "722d4bfeef1c49f9b996298f0aa4186d",
      "6aec91c168e04fc599d443ca5c727d28",
      "21199247092d4188a125cfef0f3fc8d5",
      "2ff21072711149b7bda8d03895c16ead",
      "338d26609ba145919ac9b218993d5c4a",
      "7c618ab2bc974f4c828a238a09fb42f3",
      "5349365909b54c58b035db4cdc5b9750",
      "527bd6c1d85a4033926d506f68341622"
     ]
    },
    "id": "rxZP_4ymw1hr",
    "outputId": "f8ca73ec-da06-4562-cb81-a912d9f526fd"
   },
   "outputs": [
    {
     "name": "stdout",
     "output_type": "stream",
     "text": [
      "Downloading http://codh.rois.ac.jp/kmnist/dataset/kmnist/train-images-idx3-ubyte.gz\n",
      "Downloading http://codh.rois.ac.jp/kmnist/dataset/kmnist/train-images-idx3-ubyte.gz to KMNIST/raw/train-images-idx3-ubyte/KMNIST/raw/train-images-idx3-ubyte.gz\n"
     ]
    },
    {
     "data": {
      "application/vnd.jupyter.widget-view+json": {
       "model_id": "df67d1068a3740a48ce66b724e9fb20b",
       "version_major": 2,
       "version_minor": 0
      },
      "text/plain": [
       "  0%|          | 0/18165135 [00:00<?, ?it/s]"
      ]
     },
     "metadata": {},
     "output_type": "display_data"
    },
    {
     "name": "stdout",
     "output_type": "stream",
     "text": [
      "Extracting KMNIST/raw/train-images-idx3-ubyte/KMNIST/raw/train-images-idx3-ubyte.gz to KMNIST/raw/train-images-idx3-ubyte/KMNIST/raw\n",
      "\n",
      "Downloading http://codh.rois.ac.jp/kmnist/dataset/kmnist/train-labels-idx1-ubyte.gz\n",
      "Downloading http://codh.rois.ac.jp/kmnist/dataset/kmnist/train-labels-idx1-ubyte.gz to KMNIST/raw/train-images-idx3-ubyte/KMNIST/raw/train-labels-idx1-ubyte.gz\n"
     ]
    },
    {
     "data": {
      "application/vnd.jupyter.widget-view+json": {
       "model_id": "d47cc8ebeefc407c82c7cf1756fdcdfd",
       "version_major": 2,
       "version_minor": 0
      },
      "text/plain": [
       "  0%|          | 0/29497 [00:00<?, ?it/s]"
      ]
     },
     "metadata": {},
     "output_type": "display_data"
    },
    {
     "name": "stdout",
     "output_type": "stream",
     "text": [
      "Extracting KMNIST/raw/train-images-idx3-ubyte/KMNIST/raw/train-labels-idx1-ubyte.gz to KMNIST/raw/train-images-idx3-ubyte/KMNIST/raw\n",
      "\n",
      "Downloading http://codh.rois.ac.jp/kmnist/dataset/kmnist/t10k-images-idx3-ubyte.gz\n",
      "Downloading http://codh.rois.ac.jp/kmnist/dataset/kmnist/t10k-images-idx3-ubyte.gz to KMNIST/raw/train-images-idx3-ubyte/KMNIST/raw/t10k-images-idx3-ubyte.gz\n"
     ]
    },
    {
     "data": {
      "application/vnd.jupyter.widget-view+json": {
       "model_id": "615c3aa2348e457f90fcc3d9c07ad0aa",
       "version_major": 2,
       "version_minor": 0
      },
      "text/plain": [
       "  0%|          | 0/3041136 [00:00<?, ?it/s]"
      ]
     },
     "metadata": {},
     "output_type": "display_data"
    },
    {
     "name": "stdout",
     "output_type": "stream",
     "text": [
      "Extracting KMNIST/raw/train-images-idx3-ubyte/KMNIST/raw/t10k-images-idx3-ubyte.gz to KMNIST/raw/train-images-idx3-ubyte/KMNIST/raw\n",
      "\n",
      "Downloading http://codh.rois.ac.jp/kmnist/dataset/kmnist/t10k-labels-idx1-ubyte.gz\n",
      "Downloading http://codh.rois.ac.jp/kmnist/dataset/kmnist/t10k-labels-idx1-ubyte.gz to KMNIST/raw/train-images-idx3-ubyte/KMNIST/raw/t10k-labels-idx1-ubyte.gz\n"
     ]
    },
    {
     "data": {
      "application/vnd.jupyter.widget-view+json": {
       "model_id": "755f3fe2063e4f3ca4c7193d3ecd4d0a",
       "version_major": 2,
       "version_minor": 0
      },
      "text/plain": [
       "  0%|          | 0/5120 [00:00<?, ?it/s]"
      ]
     },
     "metadata": {},
     "output_type": "display_data"
    },
    {
     "name": "stdout",
     "output_type": "stream",
     "text": [
      "Extracting KMNIST/raw/train-images-idx3-ubyte/KMNIST/raw/t10k-labels-idx1-ubyte.gz to KMNIST/raw/train-images-idx3-ubyte/KMNIST/raw\n",
      "\n"
     ]
    }
   ],
   "source": [
    "batch_size_train = 1000\n",
    "train_set = torchvision.datasets.KMNIST('KMNIST/raw/train-images-idx3-ubyte', train=True, download=True,\n",
    "                             transform=torchvision.transforms.Compose([\n",
    "                               torchvision.transforms.Resize(16),\n",
    "                               torchvision.transforms.ToTensor()\n",
    "                             ]))\n",
    "\n",
    "train_loader_KMNIST = torch.utils.data.DataLoader(train_set, batch_size=batch_size_train, shuffle=True)"
   ]
  },
  {
   "cell_type": "code",
   "execution_count": 11,
   "metadata": {
    "colab": {
     "base_uri": "https://localhost:8080/",
     "height": 295
    },
    "id": "WsdVTCETw1hr",
    "outputId": "6e628ff4-8fe2-46a8-ff45-b413c8ec5e2f"
   },
   "outputs": [
    {
     "name": "stdout",
     "output_type": "stream",
     "text": [
      "torch.Size([1000, 1, 16, 16])\n"
     ]
    },
    {
     "data": {
      "image/png": "[encoded data removed]",
      "text/plain": [
       "<Figure size 432x288 with 6 Axes>"
      ]
     },
     "metadata": {},
     "output_type": "display_data"
    }
   ],
   "source": [
    "examples = enumerate(train_loader_KMNIST)\n",
    "batch_idx, (example_data,_) = next(examples)\n",
    "print(example_data.shape)\n",
    "fig = plt.figure()\n",
    "for i in range(min(example_data.shape[0],6)):\n",
    "    plt.subplot(2,3,i+1)\n",
    "    plt.tight_layout()\n",
    "    plt.imshow((example_data[i][0]), cmap='gray', interpolation='none')\n",
    "    plt.xticks([])\n",
    "    plt.yticks([])\n",
    "    fig"
   ]
  },
  {
   "cell_type": "code",
   "execution_count": 12,
   "metadata": {
    "colab": {
     "base_uri": "https://localhost:8080/",
     "height": 67,
     "referenced_widgets": [
      "d5e633e9c8454e139ca3e61526ed0745",
      "0ec5b428876f44b291aed8c2b2e32675",
      "197b9ed30957474e8afdfcdda81a0544",
      "0ea05f0a545c46759378c45364de0d31",
      "d3a2c4e30d4f4158b177810c3a3e08bc",
      "0ebb6004445d4eda9993e92776a3f517",
      "98a4cc3b5c6842f1aa7847bcc2b57fa6",
      "825377bf8a3a49cab05a948852a15cb1",
      "5a6bb7d7e5ef49c593ffaa8f5e3f7556",
      "8d25872de8e445e98d3af3c0c9c9126a",
      "664d7f7b604d4be09fce89c4f646439a"
     ]
    },
    "id": "2k69BTBXw1hr",
    "outputId": "c20692ea-e520-4211-af7d-351580ca2b06"
   },
   "outputs": [
    {
     "name": "stdout",
     "output_type": "stream",
     "text": [
      "Downloading https://www.csie.ntu.edu.tw/~cjlin/libsvmtools/datasets/multiclass/usps.bz2 to USPS/usps.bz2\n"
     ]
    },
    {
     "data": {
      "application/vnd.jupyter.widget-view+json": {
       "model_id": "d5e633e9c8454e139ca3e61526ed0745",
       "version_major": 2,
       "version_minor": 0
      },
      "text/plain": [
       "  0%|          | 0/6579383 [00:00<?, ?it/s]"
      ]
     },
     "metadata": {},
     "output_type": "display_data"
    }
   ],
   "source": [
    "batch_size_train = 1000\n",
    "train_set = torchvision.datasets.USPS('USPS', train=True, download=True,\n",
    "                             transform=torchvision.transforms.Compose([\n",
    "                               torchvision.transforms.Resize(16),\n",
    "                               torchvision.transforms.ToTensor()\n",
    "                             ]))\n",
    "\n",
    "train_loader_USPS = torch.utils.data.DataLoader(train_set, batch_size=batch_size_train, shuffle=True)"
   ]
  },
  {
   "cell_type": "code",
   "execution_count": 21,
   "metadata": {
    "colab": {
     "base_uri": "https://localhost:8080/",
     "height": 284
    },
    "id": "Oi-l2DmBw1hs",
    "outputId": "bcbc53cd-5fc6-4bbf-d8f2-f8ec76099d66"
   },
   "outputs": [
    {
     "data": {
      "image/png": "[encoded data removed]",
      "text/plain": [
       "<Figure size 432x288 with 12 Axes>"
      ]
     },
     "metadata": {},
     "output_type": "display_data"
    }
   ],
   "source": [
    "examples = enumerate(train_loader_USPS)\n",
    "batch_idx, (example_data) = next(examples)\n",
    "fig = plt.figure()\n",
    "for i in range(12):\n",
    "    plt.subplot(3,4,i+1)\n",
    "    plt.tight_layout()\n",
    "    plt.imshow((example_data[0][i][0]), cmap='gray', interpolation='none')\n",
    "    plt.xticks([])\n",
    "    plt.yticks([])\n",
    "    fig"
   ]
  },
  {
   "cell_type": "code",
   "execution_count": 34,
   "metadata": {
    "colab": {
     "base_uri": "https://localhost:8080/",
     "height": 1000
    },
    "id": "0lL1QzaSw1hs",
    "outputId": "0b96c373-7ac4-4bf6-8adc-8770f2e88703"
   },
   "outputs": [
    {
     "name": "stdout",
     "output_type": "stream",
     "text": [
      "Trained Epoch 25: loss = -843.0462646484375\n"
     ]
    },
    {
     "name": "stderr",
     "output_type": "stream",
     "text": [
      "/usr/local/lib/python3.7/dist-packages/matplotlib/image.py:452: UserWarning: Warning: converting a masked element to nan.\n",
      "  dv = np.float64(self.norm.vmax) - np.float64(self.norm.vmin)\n",
      "/usr/local/lib/python3.7/dist-packages/matplotlib/image.py:459: UserWarning: Warning: converting a masked element to nan.\n",
      "  a_min = np.float64(newmin)\n",
      "/usr/local/lib/python3.7/dist-packages/matplotlib/image.py:464: UserWarning: Warning: converting a masked element to nan.\n",
      "  a_max = np.float64(newmax)\n",
      "<string>:6: UserWarning: Warning: converting a masked element to nan.\n",
      "/usr/local/lib/python3.7/dist-packages/matplotlib/colors.py:993: UserWarning: Warning: converting a masked element to nan.\n",
      "  data = np.asarray(value)\n"
     ]
    },
    {
     "data": {
      "image/png": "[encoded data removed]",
      "text/plain": [
       "<Figure size 432x288 with 4 Axes>"
      ]
     },
     "metadata": {},
     "output_type": "display_data"
    },
    {
     "name": "stdout",
     "output_type": "stream",
     "text": [
      "Trained Epoch 50: loss = -1048.078125\n"
     ]
    },
    {
     "data": {
      "image/png": "[encoded data removed]",
      "text/plain": [
       "<Figure size 432x288 with 4 Axes>"
      ]
     },
     "metadata": {},
     "output_type": "display_data"
    },
    {
     "name": "stdout",
     "output_type": "stream",
     "text": [
      "Trained Epoch 75: loss = -1071.4827880859375\n"
     ]
    },
    {
     "data": {
      "image/png": "[encoded data removed]",
      "text/plain": [
       "<Figure size 432x288 with 4 Axes>"
      ]
     },
     "metadata": {},
     "output_type": "display_data"
    }
   ],
   "source": [
    "hidden_dim = 256\n",
    "input_dim = train_set[0][0].shape[1]*train_set[0][0].shape[2]\n",
    "nblock = 5\n",
    "realNVP = RealNVP(nblock,input_dim,hidden_dim,3).to(device)\n",
    "optimizer = optim.Adam(realNVP.parameters(), lr = 0.001)\n",
    "\n",
    "\n",
    "Epochs = 80\n",
    "realNVP.train()\n",
    "for epoch in range(Epochs):\n",
    "    for idx, (data, _) in enumerate(train_loader_KMNIST):\n",
    "        x = data.to(device)\n",
    "        z, log_det = realNVP(x)\n",
    "        loss = -torch.sum(realNVP.base_dist.log_prob(z) + log_det, dim=1).mean(0)\n",
    "        optimizer.zero_grad()\n",
    "        loss.backward()\n",
    "        optimizer.step()\n",
    "        \n",
    "    if (epoch+1)%25 == 0:\n",
    "        print(f\"Trained Epoch {epoch+1}: loss = {loss.item()}\")\n",
    "        realNVP.eval()\n",
    "        distrib = MultivariateNormal(torch.zeros(input_dim), torch.eye(input_dim))\n",
    "        z_gen = distrib.rsample(sample_shape=torch.Size([4])).to(device)\n",
    "        x_gen, _ = realNVP.reverse(z_gen.reshape(z_gen.shape[0], 256))\n",
    "        x_gen = x_gen.reshape(x_gen.shape[0], 16, 16)\n",
    "        plt.figure()\n",
    "        for i in range(4):\n",
    "            plt.subplot(2,2,i+1)\n",
    "            plt.tight_layout()\n",
    "            plt.imshow((x_gen[i].cpu().detach().numpy()), cmap='gray', interpolation='none')\n",
    "            plt.xticks([])\n",
    "            plt.yticks([])\n",
    "        plt.suptitle(f\"Epoch {epoch+1} Sample Result\")\n",
    "        plt.show()\n",
    "    realNVP.train()"
   ]
  },
  {
   "cell_type": "code",
   "execution_count": 33,
   "metadata": {
    "id": "_9cs15R9w1hs"
   },
   "outputs": [],
   "source": [
    "torch.cuda.empty_cache()"
   ]
  },
  {
   "cell_type": "code",
   "execution_count": 32,
   "metadata": {
    "colab": {
     "base_uri": "https://localhost:8080/",
     "height": 1000
    },
    "id": "1K3IHC1Fw1ht",
    "outputId": "3d4427c7-07fa-49ce-ac24-d86d037b3716"
   },
   "outputs": [
    {
     "name": "stdout",
     "output_type": "stream",
     "text": [
      "Trained Epoch 16: loss = -679.2488403320312\n"
     ]
    },
    {
     "data": {
      "image/png": "[encoded data removed]",
      "text/plain": [
       "<Figure size 432x288 with 12 Axes>"
      ]
     },
     "metadata": {},
     "output_type": "display_data"
    },
    {
     "name": "stdout",
     "output_type": "stream",
     "text": [
      "Trained Epoch 32: loss = -769.5353393554688\n"
     ]
    },
    {
     "name": "stderr",
     "output_type": "stream",
     "text": [
      "/usr/local/lib/python3.7/dist-packages/matplotlib/image.py:452: UserWarning: Warning: converting a masked element to nan.\n",
      "  dv = np.float64(self.norm.vmax) - np.float64(self.norm.vmin)\n",
      "/usr/local/lib/python3.7/dist-packages/matplotlib/image.py:459: UserWarning: Warning: converting a masked element to nan.\n",
      "  a_min = np.float64(newmin)\n",
      "/usr/local/lib/python3.7/dist-packages/matplotlib/image.py:464: UserWarning: Warning: converting a masked element to nan.\n",
      "  a_max = np.float64(newmax)\n",
      "<string>:6: UserWarning: Warning: converting a masked element to nan.\n",
      "/usr/local/lib/python3.7/dist-packages/matplotlib/colors.py:993: UserWarning: Warning: converting a masked element to nan.\n",
      "  data = np.asarray(value)\n"
     ]
    },
    {
     "data": {
      "image/png": "[encoded data removed]",
      "text/plain": [
       "<Figure size 432x288 with 12 Axes>"
      ]
     },
     "metadata": {},
     "output_type": "display_data"
    },
    {
     "name": "stdout",
     "output_type": "stream",
     "text": [
      "Trained Epoch 48: loss = -836.2598876953125\n"
     ]
    },
    {
     "data": {
      "image/png": "[encoded data removed]",
      "text/plain": [
       "<Figure size 432x288 with 12 Axes>"
      ]
     },
     "metadata": {},
     "output_type": "display_data"
    },
    {
     "name": "stdout",
     "output_type": "stream",
     "text": [
      "Trained Epoch 64: loss = -926.8760986328125\n"
     ]
    },
    {
     "data": {
      "image/png": "[encoded data removed]",
      "text/plain": [
       "<Figure size 432x288 with 12 Axes>"
      ]
     },
     "metadata": {},
     "output_type": "display_data"
    },
    {
     "name": "stdout",
     "output_type": "stream",
     "text": [
      "Trained Epoch 80: loss = -961.7860107421875\n"
     ]
    },
    {
     "data": {
      "image/png": "[encoded data removed]",
      "text/plain": [
       "<Figure size 432x288 with 12 Axes>"
      ]
     },
     "metadata": {},
     "output_type": "display_data"
    }
   ],
   "source": [
    "hidden_dim = 256\n",
    "input_dim = train_set[0][0].shape[1]*train_set[0][0].shape[2]\n",
    "nblock = 3\n",
    "realNVP = RealNVP(nblock,input_dim,hidden_dim,3).to(device)\n",
    "optimizer = optim.Adam(realNVP.parameters(), lr = 0.001)\n",
    "\n",
    "\n",
    "Epochs = 80\n",
    "realNVP.train()\n",
    "for epoch in range(Epochs):\n",
    "    for idx, (data, _) in enumerate(train_loader_USPS):\n",
    "        x = data.to(device)\n",
    "        z, log_det = realNVP(x)\n",
    "        loss = -torch.sum(realNVP.base_dist.log_prob(z) + log_det, dim=1).mean(0)\n",
    "\n",
    "        optimizer.zero_grad()\n",
    "        loss.backward()\n",
    "        optimizer.step()\n",
    "        \n",
    "    if (epoch+1)%16 == 0:\n",
    "        realNVP.eval()\n",
    "        print(f\"Trained Epoch {epoch+1}: loss = {loss.item()}\")\n",
    "        distrib = MultivariateNormal(torch.zeros(input_dim), torch.eye(input_dim))\n",
    "        z_gen = distrib.rsample(sample_shape=torch.Size([12])).to(device)\n",
    "        x_gen, _ = realNVP.reverse(z_gen.reshape(z_gen.shape[0], 256))\n",
    "        x_gen = x_gen.reshape(x_gen.shape[0], 16, 16)\n",
    "        plt.figure()\n",
    "        for i in range(12):\n",
    "            plt.subplot(3,4,i+1)\n",
    "            plt.imshow((x_gen[i].cpu().detach().numpy()), cmap='gray', interpolation='none')\n",
    "            plt.xticks([])\n",
    "            plt.yticks([])\n",
    "        plt.suptitle(f\"Epoch {epoch+1} Sample Result\")\n",
    "        plt.show()\n",
    "    realNVP.train()"
   ]
  }
 ],
 "metadata": {
  "accelerator": "GPU",
  "colab": {
   "collapsed_sections": [],
   "name": "561 Project.ipynb",
   "provenance": []
  },
  "kernelspec": {
   "display_name": "Python 3 (ipykernel)",
   "language": "python",
   "name": "python3"
  },
  "language_info": {
   "codemirror_mode": {
    "name": "ipython",
    "version": 3
   },
   "file_extension": ".py",
   "mimetype": "text/x-python",
   "name": "python",
   "nbconvert_exporter": "python",
   "pygments_lexer": "ipython3",
   "version": "3.9.9"
  },
  "widgets": {
   "application/vnd.jupyter.widget-state+json": {
    "00ce0775086d4076a17e1e62e1103fb7": {
     "model_module": "@jupyter-widgets/base",
     "model_module_version": "1.2.0",
     "model_name": "LayoutModel",
     "state": {
      "_model_module": "@jupyter-widgets/base",
      "_model_module_version": "1.2.0",
      "_model_name": "LayoutModel",
      "_view_count": null,
      "_view_module": "@jupyter-widgets/base",
      "_view_module_version": "1.2.0",
      "_view_name": "LayoutView",
      "align_content": null,
      "align_items": null,
      "align_self": null,
      "border": null,
      "bottom": null,
      "display": null,
      "flex": null,
      "flex_flow": null,
      "grid_area": null,
      "grid_auto_columns": null,
      "grid_auto_flow": null,
      "grid_auto_rows": null,
      "grid_column": null,
      "grid_gap": null,
      "grid_row": null,
      "grid_template_areas": null,
      "grid_template_columns": null,
      "grid_template_rows": null,
      "height": null,
      "justify_content": null,
      "justify_items": null,
      "left": null,
      "margin": null,
      "max_height": null,
      "max_width": null,
      "min_height": null,
      "min_width": null,
      "object_fit": null,
      "object_position": null,
      "order": null,
      "overflow": null,
      "overflow_x": null,
      "overflow_y": null,
      "padding": null,
      "right": null,
      "top": null,
      "visibility": null,
      "width": null
     }
    },
    "02342b2815994549883aa1b8b7057674": {
     "model_module": "@jupyter-widgets/base",
     "model_module_version": "1.2.0",
     "model_name": "LayoutModel",
     "state": {
      "_model_module": "@jupyter-widgets/base",
      "_model_module_version": "1.2.0",
      "_model_name": "LayoutModel",
      "_view_count": null,
      "_view_module": "@jupyter-widgets/base",
      "_view_module_version": "1.2.0",
      "_view_name": "LayoutView",
      "align_content": null,
      "align_items": null,
      "align_self": null,
      "border": null,
      "bottom": null,
      "display": null,
      "flex": null,
      "flex_flow": null,
      "grid_area": null,
      "grid_auto_columns": null,
      "grid_auto_flow": null,
      "grid_auto_rows": null,
      "grid_column": null,
      "grid_gap": null,
      "grid_row": null,
      "grid_template_areas": null,
      "grid_template_columns": null,
      "grid_template_rows": null,
      "height": null,
      "justify_content": null,
      "justify_items": null,
      "left": null,
      "margin": null,
      "max_height": null,
      "max_width": null,
      "min_height": null,
      "min_width": null,
      "object_fit": null,
      "object_position": null,
      "order": null,
      "overflow": null,
      "overflow_x": null,
      "overflow_y": null,
      "padding": null,
      "right": null,
      "top": null,
      "visibility": null,
      "width": null
     }
    },
    "0ea05f0a545c46759378c45364de0d31": {
     "model_module": "@jupyter-widgets/controls",
     "model_module_version": "1.5.0",
     "model_name": "HTMLModel",
     "state": {
      "_dom_classes": [],
      "_model_module": "@jupyter-widgets/controls",
      "_model_module_version": "1.5.0",
      "_model_name": "HTMLModel",
      "_view_count": null,
      "_view_module": "@jupyter-widgets/controls",
      "_view_module_version": "1.5.0",
      "_view_name": "HTMLView",
      "description": "",
      "description_tooltip": null,
      "layout": "IPY_MODEL_8d25872de8e445e98d3af3c0c9c9126a",
      "placeholder": "​",
      "style": "IPY_MODEL_664d7f7b604d4be09fce89c4f646439a",
      "value": " 6580224/? [00:00&lt;00:00, 17940186.79it/s]"
     }
    },
    "0ebb6004445d4eda9993e92776a3f517": {
     "model_module": "@jupyter-widgets/base",
     "model_module_version": "1.2.0",
     "model_name": "LayoutModel",
     "state": {
      "_model_module": "@jupyter-widgets/base",
      "_model_module_version": "1.2.0",
      "_model_name": "LayoutModel",
      "_view_count": null,
      "_view_module": "@jupyter-widgets/base",
      "_view_module_version": "1.2.0",
      "_view_name": "LayoutView",
      "align_content": null,
      "align_items": null,
      "align_self": null,
      "border": null,
      "bottom": null,
      "display": null,
      "flex": null,
      "flex_flow": null,
      "grid_area": null,
      "grid_auto_columns": null,
      "grid_auto_flow": null,
      "grid_auto_rows": null,
      "grid_column": null,
      "grid_gap": null,
      "grid_row": null,
      "grid_template_areas": null,
      "grid_template_columns": null,
      "grid_template_rows": null,
      "height": null,
      "justify_content": null,
      "justify_items": null,
      "left": null,
      "margin": null,
      "max_height": null,
      "max_width": null,
      "min_height": null,
      "min_width": null,
      "object_fit": null,
      "object_position": null,
      "order": null,
      "overflow": null,
      "overflow_x": null,
      "overflow_y": null,
      "padding": null,
      "right": null,
      "top": null,
      "visibility": null,
      "width": null
     }
    },
    "0ec5b428876f44b291aed8c2b2e32675": {
     "model_module": "@jupyter-widgets/controls",
     "model_module_version": "1.5.0",
     "model_name": "HTMLModel",
     "state": {
      "_dom_classes": [],
      "_model_module": "@jupyter-widgets/controls",
      "_model_module_version": "1.5.0",
      "_model_name": "HTMLModel",
      "_view_count": null,
      "_view_module": "@jupyter-widgets/controls",
      "_view_module_version": "1.5.0",
      "_view_name": "HTMLView",
      "description": "",
      "description_tooltip": null,
      "layout": "IPY_MODEL_0ebb6004445d4eda9993e92776a3f517",
      "placeholder": "​",
      "style": "IPY_MODEL_98a4cc3b5c6842f1aa7847bcc2b57fa6",
      "value": ""
     }
    },
    "197b9ed30957474e8afdfcdda81a0544": {
     "model_module": "@jupyter-widgets/controls",
     "model_module_version": "1.5.0",
     "model_name": "FloatProgressModel",
     "state": {
      "_dom_classes": [],
      "_model_module": "@jupyter-widgets/controls",
      "_model_module_version": "1.5.0",
      "_model_name": "FloatProgressModel",
      "_view_count": null,
      "_view_module": "@jupyter-widgets/controls",
      "_view_module_version": "1.5.0",
      "_view_name": "ProgressView",
      "bar_style": "success",
      "description": "",
      "description_tooltip": null,
      "layout": "IPY_MODEL_825377bf8a3a49cab05a948852a15cb1",
      "max": 6579383,
      "min": 0,
      "orientation": "horizontal",
      "style": "IPY_MODEL_5a6bb7d7e5ef49c593ffaa8f5e3f7556",
      "value": 6579383
     }
    },
    "1b189c42b33446c4a85a7835ea6d5e6b": {
     "model_module": "@jupyter-widgets/base",
     "model_module_version": "1.2.0",
     "model_name": "LayoutModel",
     "state": {
      "_model_module": "@jupyter-widgets/base",
      "_model_module_version": "1.2.0",
      "_model_name": "LayoutModel",
      "_view_count": null,
      "_view_module": "@jupyter-widgets/base",
      "_view_module_version": "1.2.0",
      "_view_name": "LayoutView",
      "align_content": null,
      "align_items": null,
      "align_self": null,
      "border": null,
      "bottom": null,
      "display": null,
      "flex": null,
      "flex_flow": null,
      "grid_area": null,
      "grid_auto_columns": null,
      "grid_auto_flow": null,
      "grid_auto_rows": null,
      "grid_column": null,
      "grid_gap": null,
      "grid_row": null,
      "grid_template_areas": null,
      "grid_template_columns": null,
      "grid_template_rows": null,
      "height": null,
      "justify_content": null,
      "justify_items": null,
      "left": null,
      "margin": null,
      "max_height": null,
      "max_width": null,
      "min_height": null,
      "min_width": null,
      "object_fit": null,
      "object_position": null,
      "order": null,
      "overflow": null,
      "overflow_x": null,
      "overflow_y": null,
      "padding": null,
      "right": null,
      "top": null,
      "visibility": null,
      "width": null
     }
    },
    "1dc127d6eb854e4f98ad9805ab340aee": {
     "model_module": "@jupyter-widgets/base",
     "model_module_version": "1.2.0",
     "model_name": "LayoutModel",
     "state": {
      "_model_module": "@jupyter-widgets/base",
      "_model_module_version": "1.2.0",
      "_model_name": "LayoutModel",
      "_view_count": null,
      "_view_module": "@jupyter-widgets/base",
      "_view_module_version": "1.2.0",
      "_view_name": "LayoutView",
      "align_content": null,
      "align_items": null,
      "align_self": null,
      "border": null,
      "bottom": null,
      "display": null,
      "flex": null,
      "flex_flow": null,
      "grid_area": null,
      "grid_auto_columns": null,
      "grid_auto_flow": null,
      "grid_auto_rows": null,
      "grid_column": null,
      "grid_gap": null,
      "grid_row": null,
      "grid_template_areas": null,
      "grid_template_columns": null,
      "grid_template_rows": null,
      "height": null,
      "justify_content": null,
      "justify_items": null,
      "left": null,
      "margin": null,
      "max_height": null,
      "max_width": null,
      "min_height": null,
      "min_width": null,
      "object_fit": null,
      "object_position": null,
      "order": null,
      "overflow": null,
      "overflow_x": null,
      "overflow_y": null,
      "padding": null,
      "right": null,
      "top": null,
      "visibility": null,
      "width": null
     }
    },
    "21199247092d4188a125cfef0f3fc8d5": {
     "model_module": "@jupyter-widgets/base",
     "model_module_version": "1.2.0",
     "model_name": "LayoutModel",
     "state": {
      "_model_module": "@jupyter-widgets/base",
      "_model_module_version": "1.2.0",
      "_model_name": "LayoutModel",
      "_view_count": null,
      "_view_module": "@jupyter-widgets/base",
      "_view_module_version": "1.2.0",
      "_view_name": "LayoutView",
      "align_content": null,
      "align_items": null,
      "align_self": null,
      "border": null,
      "bottom": null,
      "display": null,
      "flex": null,
      "flex_flow": null,
      "grid_area": null,
      "grid_auto_columns": null,
      "grid_auto_flow": null,
      "grid_auto_rows": null,
      "grid_column": null,
      "grid_gap": null,
      "grid_row": null,
      "grid_template_areas": null,
      "grid_template_columns": null,
      "grid_template_rows": null,
      "height": null,
      "justify_content": null,
      "justify_items": null,
      "left": null,
      "margin": null,
      "max_height": null,
      "max_width": null,
      "min_height": null,
      "min_width": null,
      "object_fit": null,
      "object_position": null,
      "order": null,
      "overflow": null,
      "overflow_x": null,
      "overflow_y": null,
      "padding": null,
      "right": null,
      "top": null,
      "visibility": null,
      "width": null
     }
    },
    "2687f067f1964351b361aa05e2836f2b": {
     "model_module": "@jupyter-widgets/base",
     "model_module_version": "1.2.0",
     "model_name": "LayoutModel",
     "state": {
      "_model_module": "@jupyter-widgets/base",
      "_model_module_version": "1.2.0",
      "_model_name": "LayoutModel",
      "_view_count": null,
      "_view_module": "@jupyter-widgets/base",
      "_view_module_version": "1.2.0",
      "_view_name": "LayoutView",
      "align_content": null,
      "align_items": null,
      "align_self": null,
      "border": null,
      "bottom": null,
      "display": null,
      "flex": null,
      "flex_flow": null,
      "grid_area": null,
      "grid_auto_columns": null,
      "grid_auto_flow": null,
      "grid_auto_rows": null,
      "grid_column": null,
      "grid_gap": null,
      "grid_row": null,
      "grid_template_areas": null,
      "grid_template_columns": null,
      "grid_template_rows": null,
      "height": null,
      "justify_content": null,
      "justify_items": null,
      "left": null,
      "margin": null,
      "max_height": null,
      "max_width": null,
      "min_height": null,
      "min_width": null,
      "object_fit": null,
      "object_position": null,
      "order": null,
      "overflow": null,
      "overflow_x": null,
      "overflow_y": null,
      "padding": null,
      "right": null,
      "top": null,
      "visibility": null,
      "width": null
     }
    },
    "2d483faed5cf42d787dc4a89fe804c22": {
     "model_module": "@jupyter-widgets/base",
     "model_module_version": "1.2.0",
     "model_name": "LayoutModel",
     "state": {
      "_model_module": "@jupyter-widgets/base",
      "_model_module_version": "1.2.0",
      "_model_name": "LayoutModel",
      "_view_count": null,
      "_view_module": "@jupyter-widgets/base",
      "_view_module_version": "1.2.0",
      "_view_name": "LayoutView",
      "align_content": null,
      "align_items": null,
      "align_self": null,
      "border": null,
      "bottom": null,
      "display": null,
      "flex": null,
      "flex_flow": null,
      "grid_area": null,
      "grid_auto_columns": null,
      "grid_auto_flow": null,
      "grid_auto_rows": null,
      "grid_column": null,
      "grid_gap": null,
      "grid_row": null,
      "grid_template_areas": null,
      "grid_template_columns": null,
      "grid_template_rows": null,
      "height": null,
      "justify_content": null,
      "justify_items": null,
      "left": null,
      "margin": null,
      "max_height": null,
      "max_width": null,
      "min_height": null,
      "min_width": null,
      "object_fit": null,
      "object_position": null,
      "order": null,
      "overflow": null,
      "overflow_x": null,
      "overflow_y": null,
      "padding": null,
      "right": null,
      "top": null,
      "visibility": null,
      "width": null
     }
    },
    "2f8de3cdb7c842f3a506ef9fa203758b": {
     "model_module": "@jupyter-widgets/controls",
     "model_module_version": "1.5.0",
     "model_name": "DescriptionStyleModel",
     "state": {
      "_model_module": "@jupyter-widgets/controls",
      "_model_module_version": "1.5.0",
      "_model_name": "DescriptionStyleModel",
      "_view_count": null,
      "_view_module": "@jupyter-widgets/base",
      "_view_module_version": "1.2.0",
      "_view_name": "StyleView",
      "description_width": ""
     }
    },
    "2ff21072711149b7bda8d03895c16ead": {
     "model_module": "@jupyter-widgets/controls",
     "model_module_version": "1.5.0",
     "model_name": "DescriptionStyleModel",
     "state": {
      "_model_module": "@jupyter-widgets/controls",
      "_model_module_version": "1.5.0",
      "_model_name": "DescriptionStyleModel",
      "_view_count": null,
      "_view_module": "@jupyter-widgets/base",
      "_view_module_version": "1.2.0",
      "_view_name": "StyleView",
      "description_width": ""
     }
    },
    "3207c01ca60d4d829d9db83682b0a077": {
     "model_module": "@jupyter-widgets/controls",
     "model_module_version": "1.5.0",
     "model_name": "FloatProgressModel",
     "state": {
      "_dom_classes": [],
      "_model_module": "@jupyter-widgets/controls",
      "_model_module_version": "1.5.0",
      "_model_name": "FloatProgressModel",
      "_view_count": null,
      "_view_module": "@jupyter-widgets/controls",
      "_view_module_version": "1.5.0",
      "_view_name": "ProgressView",
      "bar_style": "success",
      "description": "",
      "description_tooltip": null,
      "layout": "IPY_MODEL_00ce0775086d4076a17e1e62e1103fb7",
      "max": 18165135,
      "min": 0,
      "orientation": "horizontal",
      "style": "IPY_MODEL_723a81fdc78c41abbd4b9a4cb34fe666",
      "value": 18165135
     }
    },
    "338d26609ba145919ac9b218993d5c4a": {
     "model_module": "@jupyter-widgets/base",
     "model_module_version": "1.2.0",
     "model_name": "LayoutModel",
     "state": {
      "_model_module": "@jupyter-widgets/base",
      "_model_module_version": "1.2.0",
      "_model_name": "LayoutModel",
      "_view_count": null,
      "_view_module": "@jupyter-widgets/base",
      "_view_module_version": "1.2.0",
      "_view_name": "LayoutView",
      "align_content": null,
      "align_items": null,
      "align_self": null,
      "border": null,
      "bottom": null,
      "display": null,
      "flex": null,
      "flex_flow": null,
      "grid_area": null,
      "grid_auto_columns": null,
      "grid_auto_flow": null,
      "grid_auto_rows": null,
      "grid_column": null,
      "grid_gap": null,
      "grid_row": null,
      "grid_template_areas": null,
      "grid_template_columns": null,
      "grid_template_rows": null,
      "height": null,
      "justify_content": null,
      "justify_items": null,
      "left": null,
      "margin": null,
      "max_height": null,
      "max_width": null,
      "min_height": null,
      "min_width": null,
      "object_fit": null,
      "object_position": null,
      "order": null,
      "overflow": null,
      "overflow_x": null,
      "overflow_y": null,
      "padding": null,
      "right": null,
      "top": null,
      "visibility": null,
      "width": null
     }
    },
    "3615d5a3aca94cf881e0d20dc52c3754": {
     "model_module": "@jupyter-widgets/controls",
     "model_module_version": "1.5.0",
     "model_name": "FloatProgressModel",
     "state": {
      "_dom_classes": [],
      "_model_module": "@jupyter-widgets/controls",
      "_model_module_version": "1.5.0",
      "_model_name": "FloatProgressModel",
      "_view_count": null,
      "_view_module": "@jupyter-widgets/controls",
      "_view_module_version": "1.5.0",
      "_view_name": "ProgressView",
      "bar_style": "success",
      "description": "",
      "description_tooltip": null,
      "layout": "IPY_MODEL_2d483faed5cf42d787dc4a89fe804c22",
      "max": 29497,
      "min": 0,
      "orientation": "horizontal",
      "style": "IPY_MODEL_f84daf051b62458996498a7c7ab24feb",
      "value": 29497
     }
    },
    "3b664ea1a2dc4e56b61f10d4618139ed": {
     "model_module": "@jupyter-widgets/controls",
     "model_module_version": "1.5.0",
     "model_name": "HTMLModel",
     "state": {
      "_dom_classes": [],
      "_model_module": "@jupyter-widgets/controls",
      "_model_module_version": "1.5.0",
      "_model_name": "HTMLModel",
      "_view_count": null,
      "_view_module": "@jupyter-widgets/controls",
      "_view_module_version": "1.5.0",
      "_view_name": "HTMLView",
      "description": "",
      "description_tooltip": null,
      "layout": "IPY_MODEL_d5db906c8ce94beb9b124c09385cb93b",
      "placeholder": "​",
      "style": "IPY_MODEL_de3ff1ab859d44ed9da0d602b5a6ca72",
      "value": " 3041280/? [00:00&lt;00:00, 4762522.53it/s]"
     }
    },
    "527bd6c1d85a4033926d506f68341622": {
     "model_module": "@jupyter-widgets/controls",
     "model_module_version": "1.5.0",
     "model_name": "DescriptionStyleModel",
     "state": {
      "_model_module": "@jupyter-widgets/controls",
      "_model_module_version": "1.5.0",
      "_model_name": "DescriptionStyleModel",
      "_view_count": null,
      "_view_module": "@jupyter-widgets/base",
      "_view_module_version": "1.2.0",
      "_view_name": "StyleView",
      "description_width": ""
     }
    },
    "5349365909b54c58b035db4cdc5b9750": {
     "model_module": "@jupyter-widgets/base",
     "model_module_version": "1.2.0",
     "model_name": "LayoutModel",
     "state": {
      "_model_module": "@jupyter-widgets/base",
      "_model_module_version": "1.2.0",
      "_model_name": "LayoutModel",
      "_view_count": null,
      "_view_module": "@jupyter-widgets/base",
      "_view_module_version": "1.2.0",
      "_view_name": "LayoutView",
      "align_content": null,
      "align_items": null,
      "align_self": null,
      "border": null,
      "bottom": null,
      "display": null,
      "flex": null,
      "flex_flow": null,
      "grid_area": null,
      "grid_auto_columns": null,
      "grid_auto_flow": null,
      "grid_auto_rows": null,
      "grid_column": null,
      "grid_gap": null,
      "grid_row": null,
      "grid_template_areas": null,
      "grid_template_columns": null,
      "grid_template_rows": null,
      "height": null,
      "justify_content": null,
      "justify_items": null,
      "left": null,
      "margin": null,
      "max_height": null,
      "max_width": null,
      "min_height": null,
      "min_width": null,
      "object_fit": null,
      "object_position": null,
      "order": null,
      "overflow": null,
      "overflow_x": null,
      "overflow_y": null,
      "padding": null,
      "right": null,
      "top": null,
      "visibility": null,
      "width": null
     }
    },
    "5a6bb7d7e5ef49c593ffaa8f5e3f7556": {
     "model_module": "@jupyter-widgets/controls",
     "model_module_version": "1.5.0",
     "model_name": "ProgressStyleModel",
     "state": {
      "_model_module": "@jupyter-widgets/controls",
      "_model_module_version": "1.5.0",
      "_model_name": "ProgressStyleModel",
      "_view_count": null,
      "_view_module": "@jupyter-widgets/base",
      "_view_module_version": "1.2.0",
      "_view_name": "StyleView",
      "bar_color": null,
      "description_width": ""
     }
    },
    "5c6e1a03ea3f41f98c46b04d316ccddb": {
     "model_module": "@jupyter-widgets/controls",
     "model_module_version": "1.5.0",
     "model_name": "HTMLModel",
     "state": {
      "_dom_classes": [],
      "_model_module": "@jupyter-widgets/controls",
      "_model_module_version": "1.5.0",
      "_model_name": "HTMLModel",
      "_view_count": null,
      "_view_module": "@jupyter-widgets/controls",
      "_view_module_version": "1.5.0",
      "_view_name": "HTMLView",
      "description": "",
      "description_tooltip": null,
      "layout": "IPY_MODEL_ba86215be03c4abda7d3da60a7245bc4",
      "placeholder": "​",
      "style": "IPY_MODEL_d86aaf8c69be42bc8f01de0a76ae6bcb",
      "value": ""
     }
    },
    "5c84a9ff0cee49039e4c4afcf4bab6ed": {
     "model_module": "@jupyter-widgets/controls",
     "model_module_version": "1.5.0",
     "model_name": "FloatProgressModel",
     "state": {
      "_dom_classes": [],
      "_model_module": "@jupyter-widgets/controls",
      "_model_module_version": "1.5.0",
      "_model_name": "FloatProgressModel",
      "_view_count": null,
      "_view_module": "@jupyter-widgets/controls",
      "_view_module_version": "1.5.0",
      "_view_name": "ProgressView",
      "bar_style": "success",
      "description": "",
      "description_tooltip": null,
      "layout": "IPY_MODEL_ed5f0f3a8cb14ec6b2840338c383c86b",
      "max": 3041136,
      "min": 0,
      "orientation": "horizontal",
      "style": "IPY_MODEL_df1120d5f248447eb3260b3e8a24fcf7",
      "value": 3041136
     }
    },
    "615c3aa2348e457f90fcc3d9c07ad0aa": {
     "model_module": "@jupyter-widgets/controls",
     "model_module_version": "1.5.0",
     "model_name": "HBoxModel",
     "state": {
      "_dom_classes": [],
      "_model_module": "@jupyter-widgets/controls",
      "_model_module_version": "1.5.0",
      "_model_name": "HBoxModel",
      "_view_count": null,
      "_view_module": "@jupyter-widgets/controls",
      "_view_module_version": "1.5.0",
      "_view_name": "HBoxView",
      "box_style": "",
      "children": [
       "IPY_MODEL_e4d1f49a37834f5bb2c71a0670d674ea",
       "IPY_MODEL_5c84a9ff0cee49039e4c4afcf4bab6ed",
       "IPY_MODEL_3b664ea1a2dc4e56b61f10d4618139ed"
      ],
      "layout": "IPY_MODEL_8f581bafbf904e51bd10ba59f132c9bf"
     }
    },
    "664d7f7b604d4be09fce89c4f646439a": {
     "model_module": "@jupyter-widgets/controls",
     "model_module_version": "1.5.0",
     "model_name": "DescriptionStyleModel",
     "state": {
      "_model_module": "@jupyter-widgets/controls",
      "_model_module_version": "1.5.0",
      "_model_name": "DescriptionStyleModel",
      "_view_count": null,
      "_view_module": "@jupyter-widgets/base",
      "_view_module_version": "1.2.0",
      "_view_name": "StyleView",
      "description_width": ""
     }
    },
    "6aec91c168e04fc599d443ca5c727d28": {
     "model_module": "@jupyter-widgets/base",
     "model_module_version": "1.2.0",
     "model_name": "LayoutModel",
     "state": {
      "_model_module": "@jupyter-widgets/base",
      "_model_module_version": "1.2.0",
      "_model_name": "LayoutModel",
      "_view_count": null,
      "_view_module": "@jupyter-widgets/base",
      "_view_module_version": "1.2.0",
      "_view_name": "LayoutView",
      "align_content": null,
      "align_items": null,
      "align_self": null,
      "border": null,
      "bottom": null,
      "display": null,
      "flex": null,
      "flex_flow": null,
      "grid_area": null,
      "grid_auto_columns": null,
      "grid_auto_flow": null,
      "grid_auto_rows": null,
      "grid_column": null,
      "grid_gap": null,
      "grid_row": null,
      "grid_template_areas": null,
      "grid_template_columns": null,
      "grid_template_rows": null,
      "height": null,
      "justify_content": null,
      "justify_items": null,
      "left": null,
      "margin": null,
      "max_height": null,
      "max_width": null,
      "min_height": null,
      "min_width": null,
      "object_fit": null,
      "object_position": null,
      "order": null,
      "overflow": null,
      "overflow_x": null,
      "overflow_y": null,
      "padding": null,
      "right": null,
      "top": null,
      "visibility": null,
      "width": null
     }
    },
    "722d4bfeef1c49f9b996298f0aa4186d": {
     "model_module": "@jupyter-widgets/controls",
     "model_module_version": "1.5.0",
     "model_name": "HTMLModel",
     "state": {
      "_dom_classes": [],
      "_model_module": "@jupyter-widgets/controls",
      "_model_module_version": "1.5.0",
      "_model_name": "HTMLModel",
      "_view_count": null,
      "_view_module": "@jupyter-widgets/controls",
      "_view_module_version": "1.5.0",
      "_view_name": "HTMLView",
      "description": "",
      "description_tooltip": null,
      "layout": "IPY_MODEL_5349365909b54c58b035db4cdc5b9750",
      "placeholder": "​",
      "style": "IPY_MODEL_527bd6c1d85a4033926d506f68341622",
      "value": " 5120/5120 [00:00&lt;00:00, 146650.98it/s]"
     }
    },
    "723a81fdc78c41abbd4b9a4cb34fe666": {
     "model_module": "@jupyter-widgets/controls",
     "model_module_version": "1.5.0",
     "model_name": "ProgressStyleModel",
     "state": {
      "_model_module": "@jupyter-widgets/controls",
      "_model_module_version": "1.5.0",
      "_model_name": "ProgressStyleModel",
      "_view_count": null,
      "_view_module": "@jupyter-widgets/base",
      "_view_module_version": "1.2.0",
      "_view_name": "StyleView",
      "bar_color": null,
      "description_width": ""
     }
    },
    "755f3fe2063e4f3ca4c7193d3ecd4d0a": {
     "model_module": "@jupyter-widgets/controls",
     "model_module_version": "1.5.0",
     "model_name": "HBoxModel",
     "state": {
      "_dom_classes": [],
      "_model_module": "@jupyter-widgets/controls",
      "_model_module_version": "1.5.0",
      "_model_name": "HBoxModel",
      "_view_count": null,
      "_view_module": "@jupyter-widgets/controls",
      "_view_module_version": "1.5.0",
      "_view_name": "HBoxView",
      "box_style": "",
      "children": [
       "IPY_MODEL_af52380ee8824c1086346b736a5109f4",
       "IPY_MODEL_ce407856b1ac4ab0a52eecef6ad992f0",
       "IPY_MODEL_722d4bfeef1c49f9b996298f0aa4186d"
      ],
      "layout": "IPY_MODEL_6aec91c168e04fc599d443ca5c727d28"
     }
    },
    "7611eb26f2864c71956571db9f281418": {
     "model_module": "@jupyter-widgets/base",
     "model_module_version": "1.2.0",
     "model_name": "LayoutModel",
     "state": {
      "_model_module": "@jupyter-widgets/base",
      "_model_module_version": "1.2.0",
      "_model_name": "LayoutModel",
      "_view_count": null,
      "_view_module": "@jupyter-widgets/base",
      "_view_module_version": "1.2.0",
      "_view_name": "LayoutView",
      "align_content": null,
      "align_items": null,
      "align_self": null,
      "border": null,
      "bottom": null,
      "display": null,
      "flex": null,
      "flex_flow": null,
      "grid_area": null,
      "grid_auto_columns": null,
      "grid_auto_flow": null,
      "grid_auto_rows": null,
      "grid_column": null,
      "grid_gap": null,
      "grid_row": null,
      "grid_template_areas": null,
      "grid_template_columns": null,
      "grid_template_rows": null,
      "height": null,
      "justify_content": null,
      "justify_items": null,
      "left": null,
      "margin": null,
      "max_height": null,
      "max_width": null,
      "min_height": null,
      "min_width": null,
      "object_fit": null,
      "object_position": null,
      "order": null,
      "overflow": null,
      "overflow_x": null,
      "overflow_y": null,
      "padding": null,
      "right": null,
      "top": null,
      "visibility": null,
      "width": null
     }
    },
    "796947331e0f43f9bb73cfae11e277f8": {
     "model_module": "@jupyter-widgets/controls",
     "model_module_version": "1.5.0",
     "model_name": "HTMLModel",
     "state": {
      "_dom_classes": [],
      "_model_module": "@jupyter-widgets/controls",
      "_model_module_version": "1.5.0",
      "_model_name": "HTMLModel",
      "_view_count": null,
      "_view_module": "@jupyter-widgets/controls",
      "_view_module_version": "1.5.0",
      "_view_name": "HTMLView",
      "description": "",
      "description_tooltip": null,
      "layout": "IPY_MODEL_9fe0752d8e3e48e991d7702f797dd4e2",
      "placeholder": "​",
      "style": "IPY_MODEL_2f8de3cdb7c842f3a506ef9fa203758b",
      "value": " 18165760/? [00:02&lt;00:00, 7074447.98it/s]"
     }
    },
    "7c618ab2bc974f4c828a238a09fb42f3": {
     "model_module": "@jupyter-widgets/controls",
     "model_module_version": "1.5.0",
     "model_name": "ProgressStyleModel",
     "state": {
      "_model_module": "@jupyter-widgets/controls",
      "_model_module_version": "1.5.0",
      "_model_name": "ProgressStyleModel",
      "_view_count": null,
      "_view_module": "@jupyter-widgets/base",
      "_view_module_version": "1.2.0",
      "_view_name": "StyleView",
      "bar_color": null,
      "description_width": ""
     }
    },
    "825377bf8a3a49cab05a948852a15cb1": {
     "model_module": "@jupyter-widgets/base",
     "model_module_version": "1.2.0",
     "model_name": "LayoutModel",
     "state": {
      "_model_module": "@jupyter-widgets/base",
      "_model_module_version": "1.2.0",
      "_model_name": "LayoutModel",
      "_view_count": null,
      "_view_module": "@jupyter-widgets/base",
      "_view_module_version": "1.2.0",
      "_view_name": "LayoutView",
      "align_content": null,
      "align_items": null,
      "align_self": null,
      "border": null,
      "bottom": null,
      "display": null,
      "flex": null,
      "flex_flow": null,
      "grid_area": null,
      "grid_auto_columns": null,
      "grid_auto_flow": null,
      "grid_auto_rows": null,
      "grid_column": null,
      "grid_gap": null,
      "grid_row": null,
      "grid_template_areas": null,
      "grid_template_columns": null,
      "grid_template_rows": null,
      "height": null,
      "justify_content": null,
      "justify_items": null,
      "left": null,
      "margin": null,
      "max_height": null,
      "max_width": null,
      "min_height": null,
      "min_width": null,
      "object_fit": null,
      "object_position": null,
      "order": null,
      "overflow": null,
      "overflow_x": null,
      "overflow_y": null,
      "padding": null,
      "right": null,
      "top": null,
      "visibility": null,
      "width": null
     }
    },
    "8d25872de8e445e98d3af3c0c9c9126a": {
     "model_module": "@jupyter-widgets/base",
     "model_module_version": "1.2.0",
     "model_name": "LayoutModel",
     "state": {
      "_model_module": "@jupyter-widgets/base",
      "_model_module_version": "1.2.0",
      "_model_name": "LayoutModel",
      "_view_count": null,
      "_view_module": "@jupyter-widgets/base",
      "_view_module_version": "1.2.0",
      "_view_name": "LayoutView",
      "align_content": null,
      "align_items": null,
      "align_self": null,
      "border": null,
      "bottom": null,
      "display": null,
      "flex": null,
      "flex_flow": null,
      "grid_area": null,
      "grid_auto_columns": null,
      "grid_auto_flow": null,
      "grid_auto_rows": null,
      "grid_column": null,
      "grid_gap": null,
      "grid_row": null,
      "grid_template_areas": null,
      "grid_template_columns": null,
      "grid_template_rows": null,
      "height": null,
      "justify_content": null,
      "justify_items": null,
      "left": null,
      "margin": null,
      "max_height": null,
      "max_width": null,
      "min_height": null,
      "min_width": null,
      "object_fit": null,
      "object_position": null,
      "order": null,
      "overflow": null,
      "overflow_x": null,
      "overflow_y": null,
      "padding": null,
      "right": null,
      "top": null,
      "visibility": null,
      "width": null
     }
    },
    "8f581bafbf904e51bd10ba59f132c9bf": {
     "model_module": "@jupyter-widgets/base",
     "model_module_version": "1.2.0",
     "model_name": "LayoutModel",
     "state": {
      "_model_module": "@jupyter-widgets/base",
      "_model_module_version": "1.2.0",
      "_model_name": "LayoutModel",
      "_view_count": null,
      "_view_module": "@jupyter-widgets/base",
      "_view_module_version": "1.2.0",
      "_view_name": "LayoutView",
      "align_content": null,
      "align_items": null,
      "align_self": null,
      "border": null,
      "bottom": null,
      "display": null,
      "flex": null,
      "flex_flow": null,
      "grid_area": null,
      "grid_auto_columns": null,
      "grid_auto_flow": null,
      "grid_auto_rows": null,
      "grid_column": null,
      "grid_gap": null,
      "grid_row": null,
      "grid_template_areas": null,
      "grid_template_columns": null,
      "grid_template_rows": null,
      "height": null,
      "justify_content": null,
      "justify_items": null,
      "left": null,
      "margin": null,
      "max_height": null,
      "max_width": null,
      "min_height": null,
      "min_width": null,
      "object_fit": null,
      "object_position": null,
      "order": null,
      "overflow": null,
      "overflow_x": null,
      "overflow_y": null,
      "padding": null,
      "right": null,
      "top": null,
      "visibility": null,
      "width": null
     }
    },
    "98a4cc3b5c6842f1aa7847bcc2b57fa6": {
     "model_module": "@jupyter-widgets/controls",
     "model_module_version": "1.5.0",
     "model_name": "DescriptionStyleModel",
     "state": {
      "_model_module": "@jupyter-widgets/controls",
      "_model_module_version": "1.5.0",
      "_model_name": "DescriptionStyleModel",
      "_view_count": null,
      "_view_module": "@jupyter-widgets/base",
      "_view_module_version": "1.2.0",
      "_view_name": "StyleView",
      "description_width": ""
     }
    },
    "9d228954c3b644b08b4dd114b2aecb5a": {
     "model_module": "@jupyter-widgets/controls",
     "model_module_version": "1.5.0",
     "model_name": "HTMLModel",
     "state": {
      "_dom_classes": [],
      "_model_module": "@jupyter-widgets/controls",
      "_model_module_version": "1.5.0",
      "_model_name": "HTMLModel",
      "_view_count": null,
      "_view_module": "@jupyter-widgets/controls",
      "_view_module_version": "1.5.0",
      "_view_name": "HTMLView",
      "description": "",
      "description_tooltip": null,
      "layout": "IPY_MODEL_2687f067f1964351b361aa05e2836f2b",
      "placeholder": "​",
      "style": "IPY_MODEL_d665434630da4922b73a4ea56f7c4419",
      "value": " 29696/? [00:00&lt;00:00, 377496.00it/s]"
     }
    },
    "9eecae5d67ef4932b05c0bcc6c737d67": {
     "model_module": "@jupyter-widgets/controls",
     "model_module_version": "1.5.0",
     "model_name": "DescriptionStyleModel",
     "state": {
      "_model_module": "@jupyter-widgets/controls",
      "_model_module_version": "1.5.0",
      "_model_name": "DescriptionStyleModel",
      "_view_count": null,
      "_view_module": "@jupyter-widgets/base",
      "_view_module_version": "1.2.0",
      "_view_name": "StyleView",
      "description_width": ""
     }
    },
    "9fe0752d8e3e48e991d7702f797dd4e2": {
     "model_module": "@jupyter-widgets/base",
     "model_module_version": "1.2.0",
     "model_name": "LayoutModel",
     "state": {
      "_model_module": "@jupyter-widgets/base",
      "_model_module_version": "1.2.0",
      "_model_name": "LayoutModel",
      "_view_count": null,
      "_view_module": "@jupyter-widgets/base",
      "_view_module_version": "1.2.0",
      "_view_name": "LayoutView",
      "align_content": null,
      "align_items": null,
      "align_self": null,
      "border": null,
      "bottom": null,
      "display": null,
      "flex": null,
      "flex_flow": null,
      "grid_area": null,
      "grid_auto_columns": null,
      "grid_auto_flow": null,
      "grid_auto_rows": null,
      "grid_column": null,
      "grid_gap": null,
      "grid_row": null,
      "grid_template_areas": null,
      "grid_template_columns": null,
      "grid_template_rows": null,
      "height": null,
      "justify_content": null,
      "justify_items": null,
      "left": null,
      "margin": null,
      "max_height": null,
      "max_width": null,
      "min_height": null,
      "min_width": null,
      "object_fit": null,
      "object_position": null,
      "order": null,
      "overflow": null,
      "overflow_x": null,
      "overflow_y": null,
      "padding": null,
      "right": null,
      "top": null,
      "visibility": null,
      "width": null
     }
    },
    "af52380ee8824c1086346b736a5109f4": {
     "model_module": "@jupyter-widgets/controls",
     "model_module_version": "1.5.0",
     "model_name": "HTMLModel",
     "state": {
      "_dom_classes": [],
      "_model_module": "@jupyter-widgets/controls",
      "_model_module_version": "1.5.0",
      "_model_name": "HTMLModel",
      "_view_count": null,
      "_view_module": "@jupyter-widgets/controls",
      "_view_module_version": "1.5.0",
      "_view_name": "HTMLView",
      "description": "",
      "description_tooltip": null,
      "layout": "IPY_MODEL_21199247092d4188a125cfef0f3fc8d5",
      "placeholder": "​",
      "style": "IPY_MODEL_2ff21072711149b7bda8d03895c16ead",
      "value": "100%"
     }
    },
    "ba86215be03c4abda7d3da60a7245bc4": {
     "model_module": "@jupyter-widgets/base",
     "model_module_version": "1.2.0",
     "model_name": "LayoutModel",
     "state": {
      "_model_module": "@jupyter-widgets/base",
      "_model_module_version": "1.2.0",
      "_model_name": "LayoutModel",
      "_view_count": null,
      "_view_module": "@jupyter-widgets/base",
      "_view_module_version": "1.2.0",
      "_view_name": "LayoutView",
      "align_content": null,
      "align_items": null,
      "align_self": null,
      "border": null,
      "bottom": null,
      "display": null,
      "flex": null,
      "flex_flow": null,
      "grid_area": null,
      "grid_auto_columns": null,
      "grid_auto_flow": null,
      "grid_auto_rows": null,
      "grid_column": null,
      "grid_gap": null,
      "grid_row": null,
      "grid_template_areas": null,
      "grid_template_columns": null,
      "grid_template_rows": null,
      "height": null,
      "justify_content": null,
      "justify_items": null,
      "left": null,
      "margin": null,
      "max_height": null,
      "max_width": null,
      "min_height": null,
      "min_width": null,
      "object_fit": null,
      "object_position": null,
      "order": null,
      "overflow": null,
      "overflow_x": null,
      "overflow_y": null,
      "padding": null,
      "right": null,
      "top": null,
      "visibility": null,
      "width": null
     }
    },
    "bb5d3a260d18499ea5495aec6c07fc6f": {
     "model_module": "@jupyter-widgets/controls",
     "model_module_version": "1.5.0",
     "model_name": "DescriptionStyleModel",
     "state": {
      "_model_module": "@jupyter-widgets/controls",
      "_model_module_version": "1.5.0",
      "_model_name": "DescriptionStyleModel",
      "_view_count": null,
      "_view_module": "@jupyter-widgets/base",
      "_view_module_version": "1.2.0",
      "_view_name": "StyleView",
      "description_width": ""
     }
    },
    "ce407856b1ac4ab0a52eecef6ad992f0": {
     "model_module": "@jupyter-widgets/controls",
     "model_module_version": "1.5.0",
     "model_name": "FloatProgressModel",
     "state": {
      "_dom_classes": [],
      "_model_module": "@jupyter-widgets/controls",
      "_model_module_version": "1.5.0",
      "_model_name": "FloatProgressModel",
      "_view_count": null,
      "_view_module": "@jupyter-widgets/controls",
      "_view_module_version": "1.5.0",
      "_view_name": "ProgressView",
      "bar_style": "success",
      "description": "",
      "description_tooltip": null,
      "layout": "IPY_MODEL_338d26609ba145919ac9b218993d5c4a",
      "max": 5120,
      "min": 0,
      "orientation": "horizontal",
      "style": "IPY_MODEL_7c618ab2bc974f4c828a238a09fb42f3",
      "value": 5120
     }
    },
    "d2dde05adfe54ca8a8e1c62ea4d402f5": {
     "model_module": "@jupyter-widgets/controls",
     "model_module_version": "1.5.0",
     "model_name": "HTMLModel",
     "state": {
      "_dom_classes": [],
      "_model_module": "@jupyter-widgets/controls",
      "_model_module_version": "1.5.0",
      "_model_name": "HTMLModel",
      "_view_count": null,
      "_view_module": "@jupyter-widgets/controls",
      "_view_module_version": "1.5.0",
      "_view_name": "HTMLView",
      "description": "",
      "description_tooltip": null,
      "layout": "IPY_MODEL_1b189c42b33446c4a85a7835ea6d5e6b",
      "placeholder": "​",
      "style": "IPY_MODEL_bb5d3a260d18499ea5495aec6c07fc6f",
      "value": ""
     }
    },
    "d3a2c4e30d4f4158b177810c3a3e08bc": {
     "model_module": "@jupyter-widgets/base",
     "model_module_version": "1.2.0",
     "model_name": "LayoutModel",
     "state": {
      "_model_module": "@jupyter-widgets/base",
      "_model_module_version": "1.2.0",
      "_model_name": "LayoutModel",
      "_view_count": null,
      "_view_module": "@jupyter-widgets/base",
      "_view_module_version": "1.2.0",
      "_view_name": "LayoutView",
      "align_content": null,
      "align_items": null,
      "align_self": null,
      "border": null,
      "bottom": null,
      "display": null,
      "flex": null,
      "flex_flow": null,
      "grid_area": null,
      "grid_auto_columns": null,
      "grid_auto_flow": null,
      "grid_auto_rows": null,
      "grid_column": null,
      "grid_gap": null,
      "grid_row": null,
      "grid_template_areas": null,
      "grid_template_columns": null,
      "grid_template_rows": null,
      "height": null,
      "justify_content": null,
      "justify_items": null,
      "left": null,
      "margin": null,
      "max_height": null,
      "max_width": null,
      "min_height": null,
      "min_width": null,
      "object_fit": null,
      "object_position": null,
      "order": null,
      "overflow": null,
      "overflow_x": null,
      "overflow_y": null,
      "padding": null,
      "right": null,
      "top": null,
      "visibility": null,
      "width": null
     }
    },
    "d47cc8ebeefc407c82c7cf1756fdcdfd": {
     "model_module": "@jupyter-widgets/controls",
     "model_module_version": "1.5.0",
     "model_name": "HBoxModel",
     "state": {
      "_dom_classes": [],
      "_model_module": "@jupyter-widgets/controls",
      "_model_module_version": "1.5.0",
      "_model_name": "HBoxModel",
      "_view_count": null,
      "_view_module": "@jupyter-widgets/controls",
      "_view_module_version": "1.5.0",
      "_view_name": "HBoxView",
      "box_style": "",
      "children": [
       "IPY_MODEL_d2dde05adfe54ca8a8e1c62ea4d402f5",
       "IPY_MODEL_3615d5a3aca94cf881e0d20dc52c3754",
       "IPY_MODEL_9d228954c3b644b08b4dd114b2aecb5a"
      ],
      "layout": "IPY_MODEL_1dc127d6eb854e4f98ad9805ab340aee"
     }
    },
    "d5db906c8ce94beb9b124c09385cb93b": {
     "model_module": "@jupyter-widgets/base",
     "model_module_version": "1.2.0",
     "model_name": "LayoutModel",
     "state": {
      "_model_module": "@jupyter-widgets/base",
      "_model_module_version": "1.2.0",
      "_model_name": "LayoutModel",
      "_view_count": null,
      "_view_module": "@jupyter-widgets/base",
      "_view_module_version": "1.2.0",
      "_view_name": "LayoutView",
      "align_content": null,
      "align_items": null,
      "align_self": null,
      "border": null,
      "bottom": null,
      "display": null,
      "flex": null,
      "flex_flow": null,
      "grid_area": null,
      "grid_auto_columns": null,
      "grid_auto_flow": null,
      "grid_auto_rows": null,
      "grid_column": null,
      "grid_gap": null,
      "grid_row": null,
      "grid_template_areas": null,
      "grid_template_columns": null,
      "grid_template_rows": null,
      "height": null,
      "justify_content": null,
      "justify_items": null,
      "left": null,
      "margin": null,
      "max_height": null,
      "max_width": null,
      "min_height": null,
      "min_width": null,
      "object_fit": null,
      "object_position": null,
      "order": null,
      "overflow": null,
      "overflow_x": null,
      "overflow_y": null,
      "padding": null,
      "right": null,
      "top": null,
      "visibility": null,
      "width": null
     }
    },
    "d5e633e9c8454e139ca3e61526ed0745": {
     "model_module": "@jupyter-widgets/controls",
     "model_module_version": "1.5.0",
     "model_name": "HBoxModel",
     "state": {
      "_dom_classes": [],
      "_model_module": "@jupyter-widgets/controls",
      "_model_module_version": "1.5.0",
      "_model_name": "HBoxModel",
      "_view_count": null,
      "_view_module": "@jupyter-widgets/controls",
      "_view_module_version": "1.5.0",
      "_view_name": "HBoxView",
      "box_style": "",
      "children": [
       "IPY_MODEL_0ec5b428876f44b291aed8c2b2e32675",
       "IPY_MODEL_197b9ed30957474e8afdfcdda81a0544",
       "IPY_MODEL_0ea05f0a545c46759378c45364de0d31"
      ],
      "layout": "IPY_MODEL_d3a2c4e30d4f4158b177810c3a3e08bc"
     }
    },
    "d665434630da4922b73a4ea56f7c4419": {
     "model_module": "@jupyter-widgets/controls",
     "model_module_version": "1.5.0",
     "model_name": "DescriptionStyleModel",
     "state": {
      "_model_module": "@jupyter-widgets/controls",
      "_model_module_version": "1.5.0",
      "_model_name": "DescriptionStyleModel",
      "_view_count": null,
      "_view_module": "@jupyter-widgets/base",
      "_view_module_version": "1.2.0",
      "_view_name": "StyleView",
      "description_width": ""
     }
    },
    "d86aaf8c69be42bc8f01de0a76ae6bcb": {
     "model_module": "@jupyter-widgets/controls",
     "model_module_version": "1.5.0",
     "model_name": "DescriptionStyleModel",
     "state": {
      "_model_module": "@jupyter-widgets/controls",
      "_model_module_version": "1.5.0",
      "_model_name": "DescriptionStyleModel",
      "_view_count": null,
      "_view_module": "@jupyter-widgets/base",
      "_view_module_version": "1.2.0",
      "_view_name": "StyleView",
      "description_width": ""
     }
    },
    "de3ff1ab859d44ed9da0d602b5a6ca72": {
     "model_module": "@jupyter-widgets/controls",
     "model_module_version": "1.5.0",
     "model_name": "DescriptionStyleModel",
     "state": {
      "_model_module": "@jupyter-widgets/controls",
      "_model_module_version": "1.5.0",
      "_model_name": "DescriptionStyleModel",
      "_view_count": null,
      "_view_module": "@jupyter-widgets/base",
      "_view_module_version": "1.2.0",
      "_view_name": "StyleView",
      "description_width": ""
     }
    },
    "df1120d5f248447eb3260b3e8a24fcf7": {
     "model_module": "@jupyter-widgets/controls",
     "model_module_version": "1.5.0",
     "model_name": "ProgressStyleModel",
     "state": {
      "_model_module": "@jupyter-widgets/controls",
      "_model_module_version": "1.5.0",
      "_model_name": "ProgressStyleModel",
      "_view_count": null,
      "_view_module": "@jupyter-widgets/base",
      "_view_module_version": "1.2.0",
      "_view_name": "StyleView",
      "bar_color": null,
      "description_width": ""
     }
    },
    "df67d1068a3740a48ce66b724e9fb20b": {
     "model_module": "@jupyter-widgets/controls",
     "model_module_version": "1.5.0",
     "model_name": "HBoxModel",
     "state": {
      "_dom_classes": [],
      "_model_module": "@jupyter-widgets/controls",
      "_model_module_version": "1.5.0",
      "_model_name": "HBoxModel",
      "_view_count": null,
      "_view_module": "@jupyter-widgets/controls",
      "_view_module_version": "1.5.0",
      "_view_name": "HBoxView",
      "box_style": "",
      "children": [
       "IPY_MODEL_5c6e1a03ea3f41f98c46b04d316ccddb",
       "IPY_MODEL_3207c01ca60d4d829d9db83682b0a077",
       "IPY_MODEL_796947331e0f43f9bb73cfae11e277f8"
      ],
      "layout": "IPY_MODEL_7611eb26f2864c71956571db9f281418"
     }
    },
    "e4d1f49a37834f5bb2c71a0670d674ea": {
     "model_module": "@jupyter-widgets/controls",
     "model_module_version": "1.5.0",
     "model_name": "HTMLModel",
     "state": {
      "_dom_classes": [],
      "_model_module": "@jupyter-widgets/controls",
      "_model_module_version": "1.5.0",
      "_model_name": "HTMLModel",
      "_view_count": null,
      "_view_module": "@jupyter-widgets/controls",
      "_view_module_version": "1.5.0",
      "_view_name": "HTMLView",
      "description": "",
      "description_tooltip": null,
      "layout": "IPY_MODEL_02342b2815994549883aa1b8b7057674",
      "placeholder": "​",
      "style": "IPY_MODEL_9eecae5d67ef4932b05c0bcc6c737d67",
      "value": ""
     }
    },
    "ed5f0f3a8cb14ec6b2840338c383c86b": {
     "model_module": "@jupyter-widgets/base",
     "model_module_version": "1.2.0",
     "model_name": "LayoutModel",
     "state": {
      "_model_module": "@jupyter-widgets/base",
      "_model_module_version": "1.2.0",
      "_model_name": "LayoutModel",
      "_view_count": null,
      "_view_module": "@jupyter-widgets/base",
      "_view_module_version": "1.2.0",
      "_view_name": "LayoutView",
      "align_content": null,
      "align_items": null,
      "align_self": null,
      "border": null,
      "bottom": null,
      "display": null,
      "flex": null,
      "flex_flow": null,
      "grid_area": null,
      "grid_auto_columns": null,
      "grid_auto_flow": null,
      "grid_auto_rows": null,
      "grid_column": null,
      "grid_gap": null,
      "grid_row": null,
      "grid_template_areas": null,
      "grid_template_columns": null,
      "grid_template_rows": null,
      "height": null,
      "justify_content": null,
      "justify_items": null,
      "left": null,
      "margin": null,
      "max_height": null,
      "max_width": null,
      "min_height": null,
      "min_width": null,
      "object_fit": null,
      "object_position": null,
      "order": null,
      "overflow": null,
      "overflow_x": null,
      "overflow_y": null,
      "padding": null,
      "right": null,
      "top": null,
      "visibility": null,
      "width": null
     }
    },
    "f84daf051b62458996498a7c7ab24feb": {
     "model_module": "@jupyter-widgets/controls",
     "model_module_version": "1.5.0",
     "model_name": "ProgressStyleModel",
     "state": {
      "_model_module": "@jupyter-widgets/controls",
      "_model_module_version": "1.5.0",
      "_model_name": "ProgressStyleModel",
      "_view_count": null,
      "_view_module": "@jupyter-widgets/base",
      "_view_module_version": "1.2.0",
      "_view_name": "StyleView",
      "bar_color": null,
      "description_width": ""
     }
    }
   }
  }
 },
 "nbformat": 4,
 "nbformat_minor": 4
}
